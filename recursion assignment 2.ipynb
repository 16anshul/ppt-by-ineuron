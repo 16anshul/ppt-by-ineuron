{
 "cells": [
  {
   "cell_type": "code",
   "execution_count": 3,
   "id": "2836a9fa",
   "metadata": {},
   "outputs": [
    {
     "name": "stdout",
     "output_type": "stream",
     "text": [
      "True\n",
      "False\n"
     ]
    }
   ],
   "source": [
    "\"\"\"<aside>\n",
    "💡 **Question 1**\n",
    "\n",
    "Given an integer `n`, return *`true` if it is a power of three. Otherwise, return `false`*.\n",
    "\n",
    "An integer `n` is a power of three, if there exists an integer `x` such that `n == 3x`.\n",
    "\n",
    "**Example 1:**\n",
    "\n",
    "```\n",
    "Input: n = 27\n",
    "Output: true\n",
    "Explanation: 27 = 33\n",
    "```\n",
    "\n",
    "**Example 2:**\n",
    "\n",
    "```\n",
    "Input: n = 0\n",
    "Output: false\n",
    "Explanation: There is no x where 3x = 0.\n",
    "\n",
    "```\n",
    "\n",
    "**Example 3:**\n",
    "\n",
    "</aside>\"\"\"\n",
    "\n",
    "def power_3(n):\n",
    "    if n == 1:\n",
    "        return True\n",
    "    if n%3 ==0:\n",
    "        return power_3(n/3)\n",
    "    return False\n",
    "    \n",
    "n = 27\n",
    "m = 63\n",
    "print(power_3(n))\n",
    "print(power_3(m))"
   ]
  },
  {
   "cell_type": "code",
   "execution_count": 24,
   "id": "e76c0474",
   "metadata": {},
   "outputs": [
    {
     "name": "stdout",
     "output_type": "stream",
     "text": [
      "3\n"
     ]
    }
   ],
   "source": [
    "\"\"\"You have a list `arr` of all integers in the range `[1, n]` sorted in a strictly increasing order. Apply the following\n",
    "algorithm on `arr`:\n",
    "\n",
    "-Starting from left to right, remove the first number and every other number afterward until you reach the end of the list.\n",
    "- Repeat the previous step again, but this time from right to left, remove the rightmost number and every \n",
    "other number from the remaining numbers.\n",
    "- Keep repeating the steps again, alternating left to right and right to left, until a single number remains.\n",
    "\n",
    "Given the integer `n`, return *the last number that remains in* `arr`.\n",
    "\n",
    "**Example 1:**\"\"\"\n",
    "\n",
    "def last_element(n):\n",
    "    left = True\n",
    "    remaining = n\n",
    "    step = 1\n",
    "    head = 1\n",
    "    while remaining > 1:\n",
    "        if left or remaining % 2 == 1:\n",
    "            head +=1\n",
    "        step *=2\n",
    "        remaining //= 2\n",
    "        left  = not left\n",
    "    return head\n",
    "n = 9\n",
    "print(last_element(n))"
   ]
  },
  {
   "cell_type": "code",
   "execution_count": 17,
   "id": "bb5b3925",
   "metadata": {},
   "outputs": [
    {
     "name": "stdout",
     "output_type": "stream",
     "text": [
      "abc\n",
      "ab\n",
      "ac\n",
      "a\n",
      "bc\n",
      "b\n",
      "c\n",
      "\n",
      "None\n"
     ]
    }
   ],
   "source": [
    "\"\"\"<aside>\n",
    "💡 **Question 3**\n",
    "\n",
    "****Given a set represented as a string, write a recursive code to print all subsets of it. The subsets can be printed \n",
    "in any order.\n",
    "\n",
    "**Example 1:**\n",
    "\n",
    "Input :  set = “abc”\n",
    "\n",
    "Output : { “”, “a”, “b”, “c”, “ab”, “ac”, “bc”, “abc”}\n",
    "\n",
    "**Example 2:**\n",
    "\n",
    "Input : set = “abcd”\n",
    "\n",
    "Output : { “”, “a” ,”ab” ,”abc” ,”abcd”, “abd” ,”ac” ,”acd”, “ad” ,”b”, “bc” ,”bcd” ,”bd” ,”c” ,”cd” ,”d” }\n",
    "\n",
    "</aside>\"\"\"\n",
    "def subsets(s):\n",
    "    subset_making(s,\"\",0)\n",
    "    \n",
    "def subset_making(s,curr_subset,index):\n",
    "    if index == len(s):\n",
    "        print(curr_subset)\n",
    "        return\n",
    "    subset_making(s,curr_subset+s[index],index+1)\n",
    "    subset_making(s,curr_subset,index+1)\n",
    "    \n",
    "str = 'abc'\n",
    "print(subsets(str))"
   ]
  },
  {
   "cell_type": "code",
   "execution_count": 18,
   "id": "57649db3",
   "metadata": {},
   "outputs": [
    {
     "name": "stdout",
     "output_type": "stream",
     "text": [
      "13\n"
     ]
    }
   ],
   "source": [
    "\"\"\"<aside>\n",
    "💡 **Question 4**\n",
    "\n",
    "Given a string calculate length of the string using recursion.\n",
    "\n",
    "**Examples:**\n",
    "\n",
    "</aside>\"\"\"\n",
    "def str_length(s):\n",
    "    if s == \"\":\n",
    "        return 0\n",
    "    else:\n",
    "        return 1 + str_length(s[1:])\n",
    "str = \"GEEKSFORGEEKS\"\n",
    "print(str_length(str))"
   ]
  },
  {
   "cell_type": "code",
   "execution_count": 21,
   "id": "d5524a75",
   "metadata": {},
   "outputs": [
    {
     "name": "stdout",
     "output_type": "stream",
     "text": [
      "7\n"
     ]
    }
   ],
   "source": [
    "\"\"\"<aside>\n",
    "💡 **Question 5**\n",
    "\n",
    "We are given a string S, we need to find count of all contiguous substrings starting and ending with same character.\n",
    "\n",
    "**Examples :**\n",
    "\n",
    "</aside>\"\"\"\n",
    "def count_substrings(s):\n",
    "    result = 0\n",
    "    n = len(s)\n",
    "    for i in range(n):\n",
    "        for j in range(i,n):\n",
    "            if s[i] == s[j]:\n",
    "                result += 1\n",
    "    return result\n",
    "s = 'abcab'\n",
    "print(count_substrings(s))"
   ]
  },
  {
   "cell_type": "code",
   "execution_count": 26,
   "id": "7a4be7e0",
   "metadata": {},
   "outputs": [
    {
     "name": "stdout",
     "output_type": "stream",
     "text": [
      "Move disk 1 from 1 to 2\n",
      "Move disk 2 from 1 to 3\n",
      "Move disk 1 from 2 to 3\n",
      "Move disk 3 from 1 to 2\n",
      "Move disk 1 from 3 to 1\n",
      "Move disk 2 from 3 to 2\n",
      "Move disk 1 from 1 to 2\n",
      "7\n"
     ]
    }
   ],
   "source": [
    "\"\"\"The [tower of Hanoi](https://en.wikipedia.org/wiki/Tower_of_Hanoi) is a famous puzzle where we have three rods and \n",
    "**N** disks. The objective of the puzzle is to move the entire stack to another rod. You are given the number of discs \n",
    "**N**. Initially, these discs are in the rod 1. You need to print all the steps of discs movement so that all the discs\n",
    "\n",
    "reach the 3rd rod. Also, you need to find the total moves.**Note:** The discs are arranged such that the **top disc is\n",
    "numbered 1** and the **bottom-most disc is numbered N**. Also, all the discs have **different sizes** and a bigger disc\n",
    "**cannot** be put on the top of a smaller disc. Refer the provided link to get a better clarity about the puzzle.\n",
    "\n",
    "**Example 1:**\"\"\"\n",
    "def tower_of_hanoi(n, source, destination, auxiliary):\n",
    "    if n == 1:\n",
    "        print(\"Move disk 1 from\", source, \"to\", destination)\n",
    "        return 1\n",
    "    else:\n",
    "        moves = 0\n",
    "        moves += tower_of_hanoi(n-1, source, auxiliary, destination)\n",
    "        print(\"Move disk\", n, \"from\", source, \"to\", destination)\n",
    "        moves += 1\n",
    "        moves += tower_of_hanoi(n-1, auxiliary, destination, source)\n",
    "        return moves\n",
    "N = 3\n",
    "print(tower_of_hanoi(N,1,2,3))"
   ]
  },
  {
   "cell_type": "code",
   "execution_count": 29,
   "id": "34355953",
   "metadata": {},
   "outputs": [
    {
     "name": "stdout",
     "output_type": "stream",
     "text": [
      "ABC ACB BAC BCA CAB CBA None\n"
     ]
    }
   ],
   "source": [
    "\"\"\"<aside>\n",
    "💡 **Question 7**\n",
    "\n",
    "Given a string **str**, the task is to print all the permutations of **str**. A **permutation** is an arrangement of \n",
    "all or part of a set of objects, with regard to the order of the arrangement. For instance, the words ‘bat’ and ‘tab’ \n",
    "represents two distinct permutation (or arrangements) of a similar three letter word.\n",
    "\n",
    "**Examples:**\n",
    "\n",
    "> Input: str = “cd”\n",
    "> \n",
    "> \n",
    "> **Output:** cd dc\n",
    "> \n",
    "> **Input:** str = “abb”\n",
    "> \n",
    "> **Output:** abb abb bab bba bab bba\n",
    "> \n",
    "</aside>\"\"\"\n",
    "def permute(s,empty):\n",
    "    if (len(s)==0):\n",
    "        print(empty,end=\" \")\n",
    "    for i in range(len(s)):\n",
    "        ch = s[i]\n",
    "        left_substr = s[0:i]\n",
    "        right_substr = s[i + 1:]\n",
    "        rest = left_substr + right_substr\n",
    "        permute(rest,empty+ch)\n",
    "empty = \"\"\n",
    "s = \"ABC\"\n",
    "print(permute(s,empty))"
   ]
  },
  {
   "cell_type": "code",
   "execution_count": 27,
   "id": "3975ae11",
   "metadata": {},
   "outputs": [
    {
     "name": "stdout",
     "output_type": "stream",
     "text": [
      "3\n"
     ]
    }
   ],
   "source": [
    "\"\"\"<aside>\n",
    "💡 **Question 8**\n",
    "\n",
    "Given a string, count total number of consonants in it. A consonant is an English alphabet character\n",
    "that is not vowel (a, e, i, o and u). Examples of constants are b, c, d, f, and g.\n",
    "\n",
    "**Examples :**\n",
    "\n",
    "</aside>\"\"\"\n",
    "def count_consonants(string):\n",
    "    count = 0\n",
    "    vowels = \"aeiou\"\n",
    "\n",
    "    for char in string:\n",
    "        if char.isalpha() and char.lower() not in vowels:\n",
    "            count += 1\n",
    "\n",
    "    return count\n",
    "w = 'abc de'\n",
    "print(count_consonants(w))"
   ]
  },
  {
   "cell_type": "code",
   "execution_count": null,
   "id": "e46f527c",
   "metadata": {},
   "outputs": [],
   "source": []
  }
 ],
 "metadata": {
  "kernelspec": {
   "display_name": "Python 3 (ipykernel)",
   "language": "python",
   "name": "python3"
  },
  "language_info": {
   "codemirror_mode": {
    "name": "ipython",
    "version": 3
   },
   "file_extension": ".py",
   "mimetype": "text/x-python",
   "name": "python",
   "nbconvert_exporter": "python",
   "pygments_lexer": "ipython3",
   "version": "3.9.7"
  }
 },
 "nbformat": 4,
 "nbformat_minor": 5
}
