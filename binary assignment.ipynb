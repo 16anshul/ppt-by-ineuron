{
 "cells": [
  {
   "cell_type": "code",
   "execution_count": 1,
   "id": "db50d6a0",
   "metadata": {},
   "outputs": [
    {
     "name": "stdout",
     "output_type": "stream",
     "text": [
      "6\n"
     ]
    }
   ],
   "source": [
    "\"\"\"<aside>\n",
    "💡 **Question 1**\n",
    "\n",
    "Given a non-negative integer `x`, return *the square root of* `x` *rounded down to the nearest integer*. \n",
    "The returned integer should be **non-negative** as well.\n",
    "\n",
    "You **must not use** any built-in exponent function or operator.\n",
    "\n",
    "- For example, do not use `pow(x, 0.5)` in c++ or `x ** 0.5` in python.\n",
    "\n",
    "**Example 1:**\n",
    "\n",
    "</aside>\"\"\"\n",
    "def sqrt(x):\n",
    "    s = 0\n",
    "    e = x\n",
    "    while s <= e:\n",
    "        m = (s+e)//2\n",
    "        if m * m == x:\n",
    "            return m\n",
    "        elif m * m > x:\n",
    "            e = m -1\n",
    "        else:\n",
    "            s = m + 1\n",
    "sq = 36\n",
    "print(sqrt(sq))"
   ]
  },
  {
   "cell_type": "code",
   "execution_count": 2,
   "id": "8716defa",
   "metadata": {},
   "outputs": [
    {
     "name": "stdout",
     "output_type": "stream",
     "text": [
      "2\n"
     ]
    }
   ],
   "source": [
    "\"\"\"<aside>\n",
    "💡 **Question 2**\n",
    "\n",
    "A peak element is an element that is strictly greater than its neighbors.\n",
    "\n",
    "Given a **0-indexed** integer array `nums`, find a peak element, and return its index. \n",
    "If the array contains multiple peaks, return the index to **any of the peaks**.\n",
    "\n",
    "You may imagine that `nums[-1] = nums[n] = -∞`. In other words, an element is always considered to be strictly greater \n",
    "than a neighbor that is outside the array.\n",
    "\n",
    "You must write an algorithm that runs in `O(log n)` time.\n",
    "\n",
    "**Example 1:**\n",
    "\n",
    "</aside>\"\"\"\n",
    "\n",
    "def peak(l):\n",
    "    s = 0\n",
    "    e = len(l)-1\n",
    "    while s < e:\n",
    "        m = (s+e)//2 \n",
    "        if l[m] < l[m + 1]:\n",
    "            s = m + 1\n",
    "        else:\n",
    "            e = m\n",
    "    return s\n",
    "nums = [1,2,3,1]\n",
    "print(peak(nums))"
   ]
  },
  {
   "cell_type": "code",
   "execution_count": 3,
   "id": "871fde9c",
   "metadata": {},
   "outputs": [
    {
     "name": "stdout",
     "output_type": "stream",
     "text": [
      "2\n"
     ]
    }
   ],
   "source": [
    "\"\"\"Given an array `nums` containing `n` distinct numbers in the range `[0, n]`, return *the only number in the range that \n",
    "is missing from the array.*\n",
    "\"\"\"\n",
    "def missing_number(nums):\n",
    "    s = 0\n",
    "    e = len(nums)-1\n",
    "    while s < e:\n",
    "        m = (s + e)//2\n",
    "        if nums[m] > m:\n",
    "            e = m\n",
    "        else:\n",
    "            s = m + 1\n",
    "    return s\n",
    "nums = [3,0,1]\n",
    "print(missing_number(nums))"
   ]
  },
  {
   "cell_type": "code",
   "execution_count": 4,
   "id": "36717ad7",
   "metadata": {},
   "outputs": [
    {
     "name": "stdout",
     "output_type": "stream",
     "text": [
      "2\n"
     ]
    }
   ],
   "source": [
    "\"\"\"<aside>\n",
    "💡 **Question 4**\n",
    "\n",
    "Given an array of integers `nums` containing `n + 1` integers where each integer is in the range `[1, n]` inclusive.\n",
    "\n",
    "There is only **one repeated number** in `nums`, return *this repeated number*.\n",
    "\n",
    "You must solve the problem **without** modifying the array `nums` and uses only constant extra space.\n",
    "\n",
    "**Example 1:**\n",
    "\n",
    "</aside>\"\"\"\n",
    "def duplicate(l):\n",
    "    slow = l[0]\n",
    "    fast = l[0]\n",
    "    \n",
    "    while True:\n",
    "        slow = l[slow]\n",
    "        fast = l[l[fast]]\n",
    "        if slow == fast:\n",
    "            break\n",
    "            \n",
    "    slow = l[0]\n",
    "    \n",
    "    while slow != fast:\n",
    "        slow = l[slow]\n",
    "        fast = l[fast]\n",
    "        \n",
    "    return slow\n",
    "\n",
    "nums = [1,3,4,2,2]\n",
    "print(duplicate(nums))"
   ]
  },
  {
   "cell_type": "code",
   "execution_count": 5,
   "id": "67484a39",
   "metadata": {},
   "outputs": [
    {
     "name": "stdout",
     "output_type": "stream",
     "text": [
      "[2]\n"
     ]
    }
   ],
   "source": [
    "\"\"\"Given two integer arrays `nums1` and `nums2`, return *an array of their intersection*. Each element in the result\n",
    "must be **unique** and you may return the result in **any order**.\n",
    "\"\"\"\n",
    "def intersection(nums1,nums2):\n",
    "    set1 = set(nums1)\n",
    "    intersection = set()\n",
    "    \n",
    "    for n in nums2:\n",
    "         if n in set1 and n not in intersection:\n",
    "                intersection.add(n)\n",
    "    return list(intersection)\n",
    "nums1 = [1,2,2,1]\n",
    "nums2 = [2,2]\n",
    "print(intersection(nums1,nums2))"
   ]
  },
  {
   "cell_type": "code",
   "execution_count": 6,
   "id": "80a83eb8",
   "metadata": {},
   "outputs": [
    {
     "name": "stdout",
     "output_type": "stream",
     "text": [
      "1\n"
     ]
    }
   ],
   "source": [
    "\"\"\"Suppose an array of length `n` sorted in ascending order is **rotated** between `1` and `n` times. For example,\n",
    "the array `nums = [0,1,2,4,5,6,7]` might become:\n",
    "- `[4,5,6,7,0,1,2]` if it was rotated `4` times.\n",
    "- `[0,1,2,4,5,6,7]` if it was rotated `7` times.\n",
    "Notice that **rotating** an array `[a[0], a[1], a[2], ..., a[n-1]]` 1 time results in the array `[a[n-1], a[0], a[1], \n",
    "a[2], ..., a[n-2]]`.\n",
    "Given the sorted rotated array `nums` of **unique** elements, return *the minimum element of this array*.\n",
    "You must write an algorithm that runs in `O(log n) time.`\n",
    "\"\"\"\n",
    "def minimum_element(nums):\n",
    "    min_ele = nums[0]\n",
    "    n = len(nums)-1\n",
    "    for i in range(n) :\n",
    "        if nums[i] < min_ele :\n",
    "            min_ele = nums[i]\n",
    " \n",
    "    return min_ele\n",
    "\n",
    "nums = [3,4,5,1,2]\n",
    "print(minimum_element(nums))"
   ]
  },
  {
   "cell_type": "code",
   "execution_count": 10,
   "id": "e24b55a9",
   "metadata": {},
   "outputs": [
    {
     "name": "stdout",
     "output_type": "stream",
     "text": [
      "[-1, -1]\n"
     ]
    }
   ],
   "source": [
    "\"\"\"Given an array of integers `nums` sorted in non-decreasing order, find the starting and ending position of a given `\n",
    "target` value.\n",
    "\n",
    "If `target` is not found in the array, return `[-1, -1]`.\n",
    "\n",
    "You must write an algorithm with `O(log n)` runtime complexity.\n",
    "\"\"\"\n",
    "def findFirstAndLast(arr,x):\n",
    "    first = -1\n",
    "    last = -1\n",
    "    left = 0\n",
    "    right = len(arr)-1\n",
    "    while left <= right:\n",
    "        m = (left + right) // 2\n",
    "        if arr[m] == x:\n",
    "            last = m\n",
    "            right = m-1\n",
    "        elif arr[m] > x:\n",
    "            right = m-1\n",
    "        else:\n",
    "            left = m +1\n",
    "            \n",
    "    left = last\n",
    "    right = len(arr)-1\n",
    "    while left <= right:\n",
    "        m = left + (right - left) // 2\n",
    "\n",
    "        if nums[m] == x:\n",
    "            start = m\n",
    "            left = m + 1\n",
    "        elif arr[m] > x:\n",
    "            right = m - 1\n",
    "        else:\n",
    "            left = m + 1\n",
    "\n",
    "    return [first, last]\n",
    "nums = [5,7,7,8,8,10]\n",
    "target = 6\n",
    "print(findFirstAndLast(nums,target))"
   ]
  },
  {
   "cell_type": "code",
   "execution_count": 11,
   "id": "05c62b6e",
   "metadata": {},
   "outputs": [
    {
     "name": "stdout",
     "output_type": "stream",
     "text": [
      "[2]\n"
     ]
    }
   ],
   "source": [
    "\"\"\"Given two integer arrays `nums1` and `nums2`, return *an array of their intersection*. Each element in the result must\n",
    "appear as many times as it shows in both arrays and you may return the result in **any order**.\"\"\"\n",
    "def intersection(nums1,nums2):\n",
    "    set1 = set(nums1)\n",
    "    intersection = set()\n",
    "    \n",
    "    for n in nums2:\n",
    "         if n in set1 and n not in intersection:\n",
    "                intersection.add(n)\n",
    "    return list(intersection)\n",
    "nums1 = [1,2,2,1]\n",
    "nums2 = [2,2]\n",
    "print(intersection(nums1,nums2))"
   ]
  },
  {
   "cell_type": "code",
   "execution_count": null,
   "id": "8e6cedf6",
   "metadata": {},
   "outputs": [],
   "source": []
  },
  {
   "cell_type": "code",
   "execution_count": null,
   "id": "38422aaa",
   "metadata": {},
   "outputs": [],
   "source": []
  }
 ],
 "metadata": {
  "kernelspec": {
   "display_name": "Python 3 (ipykernel)",
   "language": "python",
   "name": "python3"
  },
  "language_info": {
   "codemirror_mode": {
    "name": "ipython",
    "version": 3
   },
   "file_extension": ".py",
   "mimetype": "text/x-python",
   "name": "python",
   "nbconvert_exporter": "python",
   "pygments_lexer": "ipython3",
   "version": "3.9.7"
  }
 },
 "nbformat": 4,
 "nbformat_minor": 5
}
